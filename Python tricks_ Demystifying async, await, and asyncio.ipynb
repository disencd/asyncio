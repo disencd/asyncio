{
 "cells": [
  {
   "cell_type": "markdown",
   "metadata": {},
   "source": [
    "# Demystifying async, await, and asyncio\n",
    "\n",
    "![](https://upload.wikimedia.org/wikipedia/commons/8/82/2012_GP2_Malaysian_round_Sprint_race_opening_lap.jpg)\n",
    "\n",
    "## What is synchronous code?\n",
    "\n",
    "Synchronous code:\n",
    "\n",
    "- Is what you're used to!\n",
    "- Runs functions one after another\n",
    "\n",
    "## What is asynchronous code?\n",
    "\n",
    "Asynchronous code:\n",
    "\n",
    "- Runs multiple functions seemingly in parallel\n",
    "   - In a single process\n",
    "   - Without threads   \n",
    "- Requires cooporative, well-behaving functions\n",
    "   - Functions that regularly suspend by `await`ing something\n",
    "- Should not use blocking functions!\n",
    "  - No `time.sleep()`\n",
    "  - No `socket.*`\n",
    "  - Etc.\n",
    "  - `asyncio` provides non-blocking alternatives for many of these functions\n",
    "\n",
    "\n",
    "## A note on Python versions\n",
    "\n",
    "- The `async` and `await` keywords were introduced in Python 3.5\n",
    "- They are syntactic sugar on top of the `asyncio` module that was introduced in Python 3.4\n",
    "- Python 3.3 and earlier do not support this\n",
    "\n",
    "- But generator coroutines can do some of the same things"
   ]
  },
  {
   "cell_type": "code",
   "execution_count": 13,
   "metadata": {},
   "outputs": [
    {
     "name": "stdout",
     "output_type": "stream",
     "text": [
      "Highest prime below 10000\n",
      "→ Highest prime below 10000 is 9973\n",
      "Highest prime below 100000\n",
      "→ Highest prime below 100000 is 99991\n",
      "Highest prime below 1000\n",
      "→ Highest prime below 1000 is 997\n",
      "Took 738.75 ms\n"
     ]
    }
   ],
   "source": [
    "import time\n",
    "import asyncio\n",
    "\n",
    "\n",
    "def is_prime(x):\n",
    "    \n",
    "    return not any(x//i == x/i for i in range(x-1, 1, -1))\n",
    "\n",
    "\n",
    "async def highest_prime_below(x):\n",
    "    \n",
    "    print('Highest prime below %d' % x)\n",
    "    for y in range(x-1, 0, -1):\n",
    "        if is_prime(y):\n",
    "            print('→ Highest prime below %d is %d' % (x, y))\n",
    "            return y\n",
    "        await asyncio.sleep(0.01)\n",
    "    return None\n",
    "\n",
    "\n",
    "async def main():\n",
    "    \n",
    "    t0 = time.time()\n",
    "    await asyncio.wait( [\n",
    "        highest_prime_below(100000),\n",
    "        highest_prime_below(10000),\n",
    "        highest_prime_below(1000)\n",
    "        ] )\n",
    "    t1 = time.time()\n",
    "    print('Took %.2f ms' % (1000*(t1-t0)))\n",
    "    \n",
    "    \n",
    "loop = asyncio.get_event_loop()\n",
    "loop.run_until_complete(main())\n",
    "#loop.close()"
   ]
  }
 ],
 "metadata": {
  "kernelspec": {
   "display_name": "Python 3",
   "language": "python",
   "name": "python3"
  },
  "language_info": {
   "codemirror_mode": {
    "name": "ipython",
    "version": 3
   },
   "file_extension": ".py",
   "mimetype": "text/x-python",
   "name": "python",
   "nbconvert_exporter": "python",
   "pygments_lexer": "ipython3",
   "version": "3.7.0b3"
  }
 },
 "nbformat": 4,
 "nbformat_minor": 2
}
